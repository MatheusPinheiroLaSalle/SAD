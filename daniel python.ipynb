{
 "cells": [
  {
   "cell_type": "code",
   "execution_count": 13,
   "metadata": {
    "collapsed": true
   },
   "outputs": [],
   "source": [
    "## Daniel Guimarães!!"
   ]
  },
  {
   "cell_type": "code",
   "execution_count": 7,
   "metadata": {},
   "outputs": [
    {
     "name": "stdout",
     "output_type": "stream",
     "text": [
      "Olá mundo!!\n"
     ]
    }
   ],
   "source": [
    "print(\"Olá mundo!!\")"
   ]
  },
  {
   "cell_type": "code",
   "execution_count": null,
   "metadata": {
    "collapsed": true
   },
   "outputs": [],
   "source": [
    "Faça um código em python para imprimir 100 vezes o texto \"Olá mundo\""
   ]
  },
  {
   "cell_type": "code",
   "execution_count": 2,
   "metadata": {},
   "outputs": [
    {
     "name": "stdout",
     "output_type": "stream",
     "text": [
      "Olá Mundo\n",
      "Olá Mundo\n",
      "Olá Mundo\n",
      "Olá Mundo\n",
      "Olá Mundo\n",
      "Olá Mundo\n",
      "Olá Mundo\n",
      "Olá Mundo\n",
      "Olá Mundo\n",
      "Olá Mundo\n",
      "Olá Mundo\n",
      "Olá Mundo\n",
      "Olá Mundo\n",
      "Olá Mundo\n",
      "Olá Mundo\n",
      "Olá Mundo\n",
      "Olá Mundo\n",
      "Olá Mundo\n",
      "Olá Mundo\n",
      "Olá Mundo\n",
      "Olá Mundo\n",
      "Olá Mundo\n",
      "Olá Mundo\n",
      "Olá Mundo\n",
      "Olá Mundo\n",
      "Olá Mundo\n",
      "Olá Mundo\n",
      "Olá Mundo\n",
      "Olá Mundo\n",
      "Olá Mundo\n",
      "Olá Mundo\n",
      "Olá Mundo\n",
      "Olá Mundo\n",
      "Olá Mundo\n",
      "Olá Mundo\n",
      "Olá Mundo\n",
      "Olá Mundo\n",
      "Olá Mundo\n",
      "Olá Mundo\n",
      "Olá Mundo\n",
      "Olá Mundo\n",
      "Olá Mundo\n",
      "Olá Mundo\n",
      "Olá Mundo\n",
      "Olá Mundo\n",
      "Olá Mundo\n",
      "Olá Mundo\n",
      "Olá Mundo\n",
      "Olá Mundo\n",
      "Olá Mundo\n",
      "Olá Mundo\n",
      "Olá Mundo\n",
      "Olá Mundo\n",
      "Olá Mundo\n",
      "Olá Mundo\n",
      "Olá Mundo\n",
      "Olá Mundo\n",
      "Olá Mundo\n",
      "Olá Mundo\n",
      "Olá Mundo\n",
      "Olá Mundo\n",
      "Olá Mundo\n",
      "Olá Mundo\n",
      "Olá Mundo\n",
      "Olá Mundo\n",
      "Olá Mundo\n",
      "Olá Mundo\n",
      "Olá Mundo\n",
      "Olá Mundo\n",
      "Olá Mundo\n",
      "Olá Mundo\n",
      "Olá Mundo\n",
      "Olá Mundo\n",
      "Olá Mundo\n",
      "Olá Mundo\n",
      "Olá Mundo\n",
      "Olá Mundo\n",
      "Olá Mundo\n",
      "Olá Mundo\n",
      "Olá Mundo\n",
      "Olá Mundo\n",
      "Olá Mundo\n",
      "Olá Mundo\n",
      "Olá Mundo\n",
      "Olá Mundo\n",
      "Olá Mundo\n",
      "Olá Mundo\n",
      "Olá Mundo\n",
      "Olá Mundo\n",
      "Olá Mundo\n",
      "Olá Mundo\n",
      "Olá Mundo\n",
      "Olá Mundo\n",
      "Olá Mundo\n",
      "Olá Mundo\n",
      "Olá Mundo\n",
      "Olá Mundo\n",
      "Olá Mundo\n",
      "Olá Mundo\n"
     ]
    }
   ],
   "source": [
    "for i in range (1,100):\n",
    "    print(\"Olá Mundo\")"
   ]
  },
  {
   "cell_type": "code",
   "execution_count": null,
   "metadata": {
    "collapsed": true
   },
   "outputs": [],
   "source": []
  }
 ],
 "metadata": {
  "kernelspec": {
   "display_name": "Python 3",
   "language": "python",
   "name": "python3"
  },
  "language_info": {
   "codemirror_mode": {
    "name": "ipython",
    "version": 3
   },
   "file_extension": ".py",
   "mimetype": "text/x-python",
   "name": "python",
   "nbconvert_exporter": "python",
   "pygments_lexer": "ipython3",
   "version": "3.5.3"
  }
 },
 "nbformat": 4,
 "nbformat_minor": 2
}
